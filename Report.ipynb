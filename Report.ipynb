{
 "cells": [
  {
   "cell_type": "markdown",
   "metadata": {},
   "source": [
    "# **Motivation**\n",
    "As in each system, breakdowns and errors sometimes occur in **dCahce**. Few people would dispute that it is important to detect them automatically and warn users afterward. Imagine the situation, a scientist from Japan failed to access data from the node placed in the mid-Europian region, and now he is trying to figure out if there was a problem with his local machine or with the entire system, but he can not get any information, because due to the difference in time zones local office in Europe is closed already. In such cases, it is especially important to warn the user if something was wrong. That is why we decided to develop a **machine learning** model, helping to detect undesirable situations.\n",
    "  \n",
    "This report is devoted to our solution for this problem. We have prepared the model, analysing information about dCache transactions and  distinguishing `signal` - when the system works fine and `backgorund` - when something goes wrong. You can find a more detailed description on the following pages of the report.\n",
    " "
   ]
  },
  {
   "cell_type": "markdown",
   "metadata": {},
   "source": [
    "# **1. Introduction**\n",
    "## **1.1. dCache**\n",
    "   First of all, it worths saying some words about the system we are going to work with -  dCache. Built in Java dCache is a distributed mass-storage system that allows us to manage huge ammount of scientific data. The data are distributed among the large number of heterogenous pools(nodes) that handle with data storage and transfer. A client can easily get access to dCache data through requests.  \n",
    "   \n",
    "   Information we are intersted in is about transactions occurred in dCache. It is contained in *billing* files which are a set of JSON dictionaries for a particular date. There are several main types of transactions: requset, transfer, remove, store, restore, but  only `stores` will be in our sphere of interests (later will be explained why).\n",
    "\n",
    "   Since amount of data to process is huge enough, to avoid overloading of our local machines we use unified analytics engine for large-scale data processing - **Apache Spark**.\n",
    "   "
   ]
  },
  {
   "cell_type": "markdown",
   "metadata": {},
   "source": [
    "## **1.2. Apache Spark**"
   ]
  },
  {
   "cell_type": "markdown",
   "metadata": {},
   "source": [
    "**Apache Spark** is an open-source, distributed processing system used for big data workloads. It utilizes in-memory caching, and optimized query execution for fast analytic queries against data of any size. [1.]\n",
    "\n",
    "Spark was introduced in 2012. Before Spark, Hadoop MapReduce was commonly used for big data analytics. \n",
    "\n",
    "Hadoop MapReduce processes big datasets with a parallel, distributed algorithm. However, a challenge in using MapReduce is the sequential multi-step process it takes to run a job. With each step requiring a disk read, and write, MapReduce jobs are slower due to the latency of disk I/O.\n",
    "\n",
    "To overcome this problem, Spark was created. It achieves this by processing in-memory, reducing the number of steps in a job, and by reusing data across multiple parallel operations. It is accomplished through the creation of DataFrames, an abstraction over Resilient Distributed Dataset (RDD), which is a collection of objects that is cached in memory, and reused in multiple Spark operations."
   ]
  },
  {
   "cell_type": "markdown",
   "metadata": {},
   "source": [
    "## **1.3. Machine Learning**"
   ]
  },
  {
   "cell_type": "markdown",
   "metadata": {},
   "source": [
    "**Machine learning(ML)** is a subfield of artificial intelligence, which is broadly defined as the capability of a machine to imitate intelligent human behavior. Artificial intelligence systems are used to perform complex tasks in a way that is similar to how humans solve problems.  [2.]"
   ]
  },
  {
   "cell_type": "markdown",
   "metadata": {},
   "source": [
    "Broadly, there are mainly 3 types of ML algorithms:\n",
    "\n",
    "* Supervised Learning: When an algorithm learns from example data and associated target responses that can consist of numeric values or string labels, such as classes or tags, in order to later predict the correct response when posed with new examples comes under the category of Supervised learning.\n",
    "\n",
    "* Unsupervised learning: When an algorithm learns from plain examples without any associated response, leaving to the algorithm to determine the data patterns on its own.\n",
    "\n",
    "* Reinforcement learning: When you present the algorithm with examples that lack labels, as in unsupervised learning. However, you can accompany an example with positive or negative feedback according to the solution so that the algorithm makes its own decisions, and the decisions bear consequences.\n",
    "\n",
    "<a href=\"https://ibb.co/sH5Nv38\"><img src=\"https://i.ibb.co/YZD17jH/figure01.png\" alt=\"figure01\" border=\"0\"></a>\n",
    "\n",
    "Source: [Link](https://developer.ibm.com/articles/cc-models-machine-learning/)"
   ]
  },
  {
   "cell_type": "markdown",
   "metadata": {},
   "source": [
    "## **1.4. Logistic Regression**"
   ]
  },
  {
   "cell_type": "markdown",
   "metadata": {},
   "source": [
    "Logistic Reression is a type of Supervised Algorithm that is used for classification problems, i.e. correctly classifying various data points to their correct data labels. It calculates the probability of the datasample being a particular class. \n",
    "\n",
    "In our project, we have worked with binary class Logistic Regression Model which classifies 2 Labels 0 and 1.\n",
    "\n",
    "The conditional probability that our Logistic model gives a particular class given the dataset is given by -\n",
    "\n",
    "<a href=\"https://ibb.co/vXSL8Xr\"><img src=\"https://i.ibb.co/XYqFTYd/1-I0l-W7-Ydv-Tn3m-HXh56p-Yx-ZQ.gif\" alt=\"1-I0l-W7-Ydv-Tn3m-HXh56p-Yx-ZQ\" border=\"0\"></a>"
   ]
  },
  {
   "cell_type": "markdown",
   "metadata": {},
   "source": [
    "where\n",
    "\n",
    "* w = weight values which are determined by our ML algorithm\n",
    "\n",
    "* x = data input\n",
    "\n",
    "* y = conditional probability of predicting a particular class given the dataset"
   ]
  },
  {
   "cell_type": "markdown",
   "metadata": {},
   "source": [
    "Plot of y with a one dimensional data input x will have the following form - \n",
    "\n",
    "<a href=\"https://ibb.co/sg1spY7\"><img src=\"https://i.ibb.co/GdMCfSm/1-Un-SW1b5-Ldp-Fl-Bx5h-R54-J0w.png\" alt=\"1-Un-SW1b5-Ldp-Fl-Bx5h-R54-J0w\" border=\"0\"></a>\n",
    "\n",
    "Source: [Link](https://towardsdatascience.com/an-introduction-to-logistic-regression-8136ad65da2e)"
   ]
  },
  {
   "cell_type": "markdown",
   "metadata": {
    "tags": []
   },
   "source": [
    "If the y value for a particular instance is greater than the model's threshold, Logistic Regression predicts it as a positive instance (class 1), otherwise as a negative one (class 0). Default model's threshold equals 0.5."
   ]
  },
  {
   "cell_type": "markdown",
   "metadata": {},
   "source": [
    "# **2. Analysis**\n",
    "## **2.1. Importing Libraries and setting up the Spark Configuration**\n",
    "The following libraries and Spark Configurations were used:"
   ]
  },
  {
   "cell_type": "code",
   "execution_count": 1,
   "metadata": {},
   "outputs": [],
   "source": [
    "import findspark\n",
    "findspark.init()\n",
    "import os\n",
    "from pyspark import SparkContext\n",
    "from pyspark import SparkConf\n",
    "from pyspark.sql import SQLContext\n",
    "from pyspark.sql.types import *\n",
    "from pyspark_dist_explore import hist\n",
    "import matplotlib.pyplot as plt\n",
    "import numpy as np\n",
    "from collections import Counter\n",
    "from datetime import datetime\n",
    "import time\n",
    "import re\n",
    "from ipaddress import ip_address\n",
    "from urllib.parse import urlparse\n",
    "import json\n",
    "import isodate\n",
    "from dateutil import parser\n",
    "from dateutil import tz\n",
    "from pyspark.sql.types import StructField, StructType, StringType\n",
    "from pyspark.sql import Row\n",
    "from urllib.request import urlopen\n",
    "\n",
    "sc_conf = SparkConf().setMaster('spark://dcache-dot1.desy.de:5000').set('spark.executor.memory',\n",
    "'26G').set('spark.driver.memory','8G').set('spark.driver.maxResultSize','8G')\n",
    "#sc = SparkContext(appName=\"PythonStreaming\")\n",
    "sc = SparkContext(conf = sc_conf)\n",
    "sqlContext = SQLContext(sc)"
   ]
  },
  {
   "cell_type": "markdown",
   "metadata": {},
   "source": [
    "## **2.2. Data Pre-Selection**\n",
    "As was said before, we were interested in only `store` type of transactions. There are two main reasons for it. First - structure of messages with type `store` is not really complicated, there are not many features to analyze in comparison with `transfer`, for instance. Second - there are sufficient number of instances with message type `store` in dCache.\n",
    "\n",
    "Two random days were chosen for analysis: 2021-07-10 and 2021-08-01. For converting data to RDD we wrote special function `convert_data`. As you may see, there are two parametrs in it: `file` - a file's directory, `msgType` - type of a message."
   ]
  },
  {
   "cell_type": "code",
   "execution_count": 2,
   "metadata": {},
   "outputs": [],
   "source": [
    "def convert_data(file, msgType):\n",
    "    data = sc.textFile(file)\n",
    "    billing = data.map(lambda row: json.loads(row)).filter(lambda row: row.get('msgType',None) == msgType)\n",
    "    return billing"
   ]
  },
  {
   "cell_type": "markdown",
   "metadata": {},
   "source": [
    "To combine data from both days SparkContext method *union()* was used:"
   ]
  },
  {
   "cell_type": "code",
   "execution_count": 3,
   "metadata": {},
   "outputs": [],
   "source": [
    "billing_RDD = sc.union(\n",
    "    [\n",
    "        convert_data('/pnfs/desy.de/desy/dcache-operations/billing-archive/xfel/2021/07/billing-2021-07-10.json',\"store\"),\n",
    "        convert_data('/pnfs/desy.de/desy/dcache-operations/billing-archive/xfel/2021/08/billing-2021-08-01.json',\"store\")\n",
    "    ]\n",
    ")"
   ]
  },
  {
   "cell_type": "markdown",
   "metadata": {},
   "source": [
    "## **2.3. Feature Description**"
   ]
  },
  {
   "cell_type": "markdown",
   "metadata": {},
   "source": [
    "After selecting the msgType = \"Store\", we can see that the RDD has many columns of data. \n",
    "\n",
    "All the columns along with an example, can be seen using the following code."
   ]
  },
  {
   "cell_type": "code",
   "execution_count": 4,
   "metadata": {},
   "outputs": [
    {
     "data": {
      "text/plain": [
       "{'transferTime': 23,\n",
       " 'version': '1.0',\n",
       " 'date': '2021-07-10T02:01:27.432+02:00',\n",
       " 'cellDomain': 'dcache-xfel132-06Domain',\n",
       " 'pnfsid': '00005F97A5611EE74DE68C4EFB82451E8ADD',\n",
       " 'transaction': 'pool:dcache-xfel132-06@dcache-xfel132-06Domain:1625875287432-12713',\n",
       " 'status': {'code': 66, 'msg': 'HSM script failed (script reported: 66: )'},\n",
       " 'msgType': 'store',\n",
       " 'fileSize': 9514620780,\n",
       " 'billingPath': '/pnfs/desy.de/exfel/archive/XFEL/proc//SPB/201701/p002038/r0220/CORR-R0220-AGIPD04-S00003.h5',\n",
       " 'storageInfo': 'xfel:SPB-201701PROC@osm2',\n",
       " 'queuingTime': 0,\n",
       " '@version': '1',\n",
       " '@timestamp': '2021-07-10T00:01:27.457Z',\n",
       " 'tags': ['xfel'],\n",
       " 'cellType': 'pool',\n",
       " 'session': 'pool:dcache-xfel132-06@dcache-xfel132-06Domain:1625875287432-12713',\n",
       " 'cellName': 'dcache-xfel132-06'}"
      ]
     },
     "execution_count": 4,
     "metadata": {},
     "output_type": "execute_result"
    }
   ],
   "source": [
    "billing_RDD.first()"
   ]
  },
  {
   "cell_type": "markdown",
   "metadata": {},
   "source": [
    "However, all this columns are not required for our ML analysis. So, we have selected few columns which we deemed important for our task of Anomaly Detection.\n",
    "\n",
    "All the other columns were rejected because they were unique label to each event and thus wouldn't provide much insight into the Anomaly Detection algorithm that we are trying to construct."
   ]
  },
  {
   "cell_type": "markdown",
   "metadata": {},
   "source": [
    "| Features | Description |\n",
    "|----------|-------------|\n",
    "| CellName |             |\n",
    "|          |             |\n",
    "|          |             |"
   ]
  },
  {
   "cell_type": "markdown",
   "metadata": {},
   "source": [
    "## **2.4. Data Pre-Processing**"
   ]
  },
  {
   "cell_type": "markdown",
   "metadata": {},
   "source": [
    "Before the data can be used for our ML purposes it has to be transformed so that they are suitable for applying our ML algorithm."
   ]
  },
  {
   "cell_type": "markdown",
   "metadata": {},
   "source": [
    "We use some wrapper functions to do some initial transformations."
   ]
  },
  {
   "cell_type": "markdown",
   "metadata": {},
   "source": [
    "* Queueing Time - No modification **(with modifications, isn't it?)**"
   ]
  },
  {
   "cell_type": "code",
   "execution_count": 5,
   "metadata": {},
   "outputs": [],
   "source": [
    "def cellName(cellName):\n",
    "    s=cellName[len(cellName)-5:]\n",
    "    s1=s.split('-')\n",
    "    return str(s1[0])+str(s1[1])\n",
    "\n",
    "def date_time(date):\n",
    "    return int(time.mktime(parser.parse(date).timetuple()))\n",
    "\n",
    "def fileSize(fileSize):\n",
    "    return float(np.log(fileSize))\n",
    "\n",
    "def queuingTime(queuingTime):\n",
    "    if (queuingTime == 0) | (queuingTime is None):\n",
    "        return -10.0\n",
    "    else:    \n",
    "        return float(np.log(queuingTime))\n",
    "    \n",
    "def transferTime(transferTime):\n",
    "    return float(np.log(transferTime))\n",
    "\n",
    "def initial_label(status):\n",
    "    if status['code']!=0:\n",
    "        return 1\n",
    "    else:\n",
    "        return 0"
   ]
  },
  {
   "cell_type": "code",
   "execution_count": 6,
   "metadata": {},
   "outputs": [
    {
     "data": {
      "text/plain": [
       "DataFrame[cellName: string, date_time: bigint, fileSize: float, transferTime: float, queuingTime: float, initial_label: bigint]"
      ]
     },
     "execution_count": 6,
     "metadata": {},
     "output_type": "execute_result"
    }
   ],
   "source": [
    "billing_Schema =  StructType([\n",
    "    StructField('cellName', StringType(), True),\n",
    "    StructField('date_time', LongType(), True),\n",
    "    StructField('fileSize', FloatType(), True),\n",
    "    StructField('transferTime', FloatType(), True),\n",
    "    StructField('queuingTime', FloatType(), True),\n",
    "    StructField('initial_label', LongType(), True)\n",
    "   ])\n",
    "\n",
    "def parse_billing(entry):\n",
    "    parse_list = [ cellName(entry.get('cellName')),\n",
    "                   date_time(entry.get('date')),\n",
    "                   fileSize(entry.get('fileSize')),\n",
    "                   transferTime(entry.get('transferTime')),\n",
    "                   queuingTime(entry.get('queuingTime')),\n",
    "                   initial_label(entry.get('status'))\n",
    "                  ]\n",
    "    info = tuple( field for field in parse_list )\n",
    "    return info\n",
    "\n",
    "billing_df = sqlContext.createDataFrame(billing_RDD.map(lambda s: parse_billing(s)), billing_Schema)\n",
    "billing_df.createOrReplaceTempView(\"billing_desy\") #name creation for sql quiries\n",
    "billing_df.cache()"
   ]
  },
  {
   "cell_type": "code",
   "execution_count": 7,
   "metadata": {},
   "outputs": [
    {
     "name": "stdout",
     "output_type": "stream",
     "text": [
      "root\n",
      " |-- cellName: string (nullable = true)\n",
      " |-- date_time: long (nullable = true)\n",
      " |-- fileSize: float (nullable = true)\n",
      " |-- transferTime: float (nullable = true)\n",
      " |-- queuingTime: float (nullable = true)\n",
      " |-- initial_label: long (nullable = true)\n",
      "\n"
     ]
    }
   ],
   "source": [
    "billing_df.printSchema()"
   ]
  },
  {
   "cell_type": "markdown",
   "metadata": {},
   "source": [
    "We have one column `cellName` which has 'String' type. Since, a 'String' type column can't directly be used for any ML analysis, we have to convert it into a suitable form.\n",
    "\n",
    "We use the `StringIndexer` module in Mllib followed by the `OneHotEncoder` module, which transforms the CellName columns into a sparse matrix which can then be used for ML analysis."
   ]
  },
  {
   "cell_type": "code",
   "execution_count": 8,
   "metadata": {},
   "outputs": [],
   "source": [
    "from pyspark.ml.feature import StringIndexer, OneHotEncoder\n",
    "str_columns=['cellName']\n",
    "string_indexer=[ StringIndexer(inputCol=x, outputCol=x+'_StringIndexer', handleInvalid='skip') for x in str_columns]\n",
    "one_hot_encoder=[OneHotEncoder(inputCol=f\"{x}_StringIndexer\", outputCol=f\"{x}_OneHotEncoder\") for x in str_columns]"
   ]
  },
  {
   "cell_type": "markdown",
   "metadata": {},
   "source": [
    "To be able to apply Logistic Regression on our data we have to convert the DataFrame into a single vector of features called 'features' which is achieved by the `Vectorizer` module in Mllib."
   ]
  },
  {
   "cell_type": "code",
   "execution_count": 9,
   "metadata": {},
   "outputs": [],
   "source": [
    "from pyspark.ml.feature import VectorAssembler\n",
    "num_columns=['fileSize', 'transferTime', 'queuingTime']\n",
    "assembler_input=num_columns+[f\"{x}_OneHotEncoder\" for x in str_columns]\n",
    "vector_assembler=VectorAssembler(inputCols=assembler_input, outputCol='features')"
   ]
  },
  {
   "cell_type": "markdown",
   "metadata": {},
   "source": [
    "Note, that `date_time` field was not included in the vector of features. That is because `date_time` is a unique feature for each file, which does not provide an ML model with important information. However, it plays a crucial role in data sampling (later will be shown how), that is why we did not exclude `date_time` from the list of fields. "
   ]
  },
  {
   "cell_type": "markdown",
   "metadata": {},
   "source": [
    "## **2.5. Data Sampling and Labeling**\n",
    "Since, we had 2 classes to distinguish - `signal` and `background`, we had to use a classification model for our problem.\n",
    "\n",
    "Before starting to apply machine learning for classifictaion, it is essetial to prepare data samples and label instances correctly. \n",
    "\n",
    "First of all, we would like to describe labeling of the data instances. Initial approach with using `status_code` feature (look at the `initial_label` field, point 2.5) is a bit naive to make a decision if a particular instance is a part of background or signal. So, we have developed more sophisticated algorithm. New labeling algorithm includes two steps:\n",
    "* Using `date_time` field, we divide all available time (for two chosen dates) on a particular number of bins, each bin equals one hour of time. \n",
    "* Averaging values of the field `initial_label` for a particular bin, we compare output value with the threshold (threshold=0.5 in our case). If the averaged value is less than the threshold we consider all instances as signal (fill 0 as the `label` for each instance of the bin), otherwise as background (fill 1 as the the `label` for each instance of the bin).\n",
    "\n",
    "The second issue is how to sample the data. For comparison we decided to apply two ways:\n",
    "* Extracting first 70 % instances for each hour sequently (serial way) \n",
    "* Extracting  70 % instances for each hour randomly (random way)\n",
    "\n",
    "Code examples, including labeling and two ways of the data selection, are represented below:"
   ]
  },
  {
   "cell_type": "code",
   "execution_count": 10,
   "metadata": {},
   "outputs": [],
   "source": [
    "treshhold=0.5\n",
    "\n",
    "#finding of minimum value for date_time in the initial data frame\n",
    "min_val=sqlContext.sql(\"select MIN(date_time) from billing_desy\").collect()\n",
    "min_val=np.array(min_val)[0]\n",
    "\n",
    "#finding of maximum value for date_time in the initial data frame\n",
    "max_val=sqlContext.sql(\"select MAX(date_time) from billing_desy\").collect()\n",
    "max_val=np.array(max_val)[0]\n",
    "\n",
    "#calculating number of hours\n",
    "bin_num=np.round((max_val-min_val)/3600,0)"
   ]
  },
  {
   "cell_type": "code",
   "execution_count": 11,
   "metadata": {},
   "outputs": [],
   "source": [
    "\"\"\"serial way\"\"\"\n",
    "\n",
    "#importing lit for labeling\n",
    "from pyspark.sql.functions import lit\n",
    "\n",
    "#creation of an empty data frame for followed union\n",
    "billing_Schema_empty =  StructType([\n",
    "    StructField('cellName', StringType(), True),\n",
    "    StructField('date_time', LongType(), True),\n",
    "    StructField('fileSize', FloatType(), True),\n",
    "    StructField('transferTime', FloatType(), True),\n",
    "    StructField('queuingTime', FloatType(), True),\n",
    "    StructField('initial_label', LongType(), True),\n",
    "    StructField('label', IntegerType(), True)\n",
    "   ])\n",
    "serial_df=sqlContext.createDataFrame(sc.emptyRDD(), billing_Schema_empty)\n",
    "    \n",
    "for i in range(int(bin_num)):\n",
    "    #spliting by hours\n",
    "    new_df=sqlContext.sql(\"select * from billing_desy where date_time between {} and {} order by date_time DESC\".format(\n",
    "        int(min_val)+3600*i,int(min_val)+3600*(i+1)))\n",
    "    new_avg=sqlContext.sql(\"select AVG(initial_label) from billing_desy where date_time between {} and {}\".format(\n",
    "        int(min_val)+3600*i,int(min_val)+3600*(i+1))).collect()\n",
    "    new_avg=np.array(new_avg)[0][0]\n",
    "    \n",
    "    if new_avg is None:\n",
    "        continue\n",
    "        \n",
    "    else:\n",
    "        new_avg=float(new_avg)\n",
    "        \n",
    "        #serial extracting\n",
    "        per_70=new_df.take(int(np.round(0.7*new_df.count(),0))+1)\n",
    "        per_70_df=sqlContext.createDataFrame(per_70)\n",
    "    \n",
    "    #labeling\n",
    "    if new_avg>=treshhold:\n",
    "        per_70_df=per_70_df.withColumn(\"label\", lit(1))\n",
    "    else:\n",
    "        per_70_df=per_70_df.withColumn(\"label\", lit(0))\n",
    "    serial_df=serial_df.union(per_70_df)\n"
   ]
  },
  {
   "cell_type": "code",
   "execution_count": 12,
   "metadata": {},
   "outputs": [
    {
     "name": "stdout",
     "output_type": "stream",
     "text": [
      "+-----+-----+\n",
      "|label|count|\n",
      "+-----+-----+\n",
      "|    1|10251|\n",
      "|    0|12108|\n",
      "+-----+-----+\n",
      "\n"
     ]
    }
   ],
   "source": [
    "#distribution of signal(0) and background(1) instances for serial sampling\n",
    "serial_df.groupBy(\"label\").count().show()"
   ]
  },
  {
   "cell_type": "code",
   "execution_count": 13,
   "metadata": {},
   "outputs": [],
   "source": [
    "\"\"\"random way\"\"\"\n",
    "\n",
    "#creation of empty dataframe for followed union\n",
    "billing_Schema_empty =  StructType([\n",
    "    StructField('cellName', StringType(), True),\n",
    "    StructField('date_time', LongType(), True),\n",
    "    StructField('fileSize', FloatType(), True),\n",
    "    StructField('transferTime', FloatType(), True),\n",
    "    StructField('queuingTime', FloatType(), True),\n",
    "    StructField('initial_label', LongType(), True),\n",
    "    StructField('label', IntegerType(), True)\n",
    "   ])\n",
    "rand_df=sqlContext.createDataFrame(sc.emptyRDD(), billing_Schema_empty)\n",
    "    \n",
    "for i in range(int(bin_num)):\n",
    "    #spliting by hours\n",
    "    new_df=sqlContext.sql(\"select * from billing_desy where date_time between {} and {} order by date_time DESC\".format(\n",
    "        int(min_val)+3600*i,int(min_val)+3600*(i+1)))\n",
    "    new_avg=sqlContext.sql(\"select AVG(initial_label) from billing_desy where date_time between {} and {}\".format(\n",
    "        int(min_val)+3600*i,int(min_val)+3600*(i+1))).collect()\n",
    "    new_avg=np.array(new_avg)[0][0]\n",
    "    \n",
    "    if new_avg is None:\n",
    "        continue\n",
    "        \n",
    "    else:\n",
    "        new_avg=float(new_avg)\n",
    "        \n",
    "        #random extracting\n",
    "        rand_70_df, rand_30_df= new_df.randomSplit([0.7,0.3],seed=7)\n",
    "        \n",
    "    #labeling\n",
    "    if new_avg>=treshhold:\n",
    "        rand_70_df=rand_70_df.withColumn(\"label\", lit(1))\n",
    "    else:\n",
    "        rand_70_df=rand_70_df.withColumn(\"label\", lit(0))\n",
    "        \n",
    "    rand_df=rand_df.union(rand_70_df)\n"
   ]
  },
  {
   "cell_type": "code",
   "execution_count": 14,
   "metadata": {},
   "outputs": [
    {
     "name": "stdout",
     "output_type": "stream",
     "text": [
      "+-----+-----+\n",
      "|label|count|\n",
      "+-----+-----+\n",
      "|    1|10176|\n",
      "|    0|12072|\n",
      "+-----+-----+\n",
      "\n"
     ]
    }
   ],
   "source": [
    "#distribution of signal(0) and background(1) instances for random sampling\n",
    "rand_df.groupBy(\"label\").count().show()"
   ]
  },
  {
   "cell_type": "markdown",
   "metadata": {},
   "source": [
    "## **2.6. Algorithm Selection**\n",
    "Having prepared data, chosen samples and labeled instances, we are able to apply machine learning algorithms. We decided to choose `Logistic Regression` as our Classifier model because of the following reasons:\n",
    "* Since the model's mathematical algorithm is not very complicated (look at point 1.4), Logistic Regression is easy to train and fast in predictions.\n",
    "* Logistic Regression scales well to large datasets.\n",
    "* Logistic Regression is able to give probabilities for each predicted class as output explicitly.\n",
    "* Reasons for the model's predictions are relatively easy to interpret.\n",
    "\n",
    "We used the `Mllib` module that is availaible with spark to perform our analysis.\n",
    "\n",
    "To combine all steps of the data pre-processing (look at point 2.5) and not to do them separately each time, we used `Pipline`. Output data of `Pipline` model are appropriate for the training of `Logistic Regression` model. Code goes below:"
   ]
  },
  {
   "cell_type": "code",
   "execution_count": 15,
   "metadata": {
    "tags": []
   },
   "outputs": [],
   "source": [
    "#splitting of selected data on train and test samples (serial_df for sequential selection is in this exaple, rand_df is also possible)\n",
    "train, test= serial_df.randomSplit([0.7,0.3],seed=7)\n",
    "\n",
    "#designation of stages for Pipline\n",
    "stages=[]\n",
    "stages+=string_indexer\n",
    "stages+=one_hot_encoder\n",
    "stages+=[vector_assembler]\n",
    "\n",
    "#Pipline model creation\n",
    "from pyspark.ml import Pipeline\n",
    "pipeline=Pipeline().setStages(stages)\n",
    "model=pipeline.fit(train)\n",
    "\n",
    "#transforming of the train sample for Logistic Regression\n",
    "X_train=model.transform(train)\n",
    "X_train.createOrReplaceTempView(\"X_train\")\n",
    "data=sqlContext.sql(\"select distinct(features),label from X_train\")\n",
    "\n",
    "#training of Logistic Regression model\n",
    "from pyspark.ml.classification import LogisticRegression\n",
    "lr=LogisticRegression().fit(data)"
   ]
  },
  {
   "cell_type": "markdown",
   "metadata": {},
   "source": [
    "## **2.7. The model evaluation**\n",
    "Before representing the results, it is worth saying some words about how we evaluated the model. \n",
    "\n",
    "To check the quality of the model's performance we split prepared datasets on `train sample`, used for model fitting, and `test sample`, used for model evaluation, in the proportion of `70%` and `30 %` accordingly (look at the cell below)."
   ]
  },
  {
   "cell_type": "code",
   "execution_count": 16,
   "metadata": {},
   "outputs": [],
   "source": [
    "train, test= serial_df.randomSplit([0.7,0.3],seed=7) #or random_df.randomSplit(...)"
   ]
  },
  {
   "cell_type": "markdown",
   "metadata": {},
   "source": [
    "To understand evaluation metrics description, it is necessary to keep in mind two simple things. First, all predictions can be divided into two classes - **correct** ones and **incorrect** ones. Second, there are two types of correct predictions:`true positive (TP)`, `true negative (TN)`; and two types of incorrect ones: `false positive (FP)` and `false negative (FN)`.\n",
    "\n",
    "**Correct preidctions:**\n",
    "* TP - number of the test set's instances that belong to class 1 and were predicted as class 1\n",
    "* TN - number of the test set's instances that belong to class 0 and were predicted as class 0\n",
    "\n",
    "**Incorrect preidctions:**\n",
    "* FP - number of the test set's instances that belong to class 0 and were predicted as class 1\n",
    "* FN - number of the test set's instances that belong to class 1 and were predicted as class 0\n",
    "\n",
    "Now, we can continue with description of evaluation metrics we used:\n",
    " 1. **ROC-curve and AUC-score.** ROC-curve is created by plotting the true positive rate (TPR) against the false positive rate (FPR) at various threshold settings, where TPR=TP/(TP+FN) and FPR=FP/(FP+TN). Looking at the ROC-curve, you can choose a particular model's threshold, providing you with desirable values of TPR and FPR. The area under the ROC-curve - AUC-score. Than more the AUC value than better model's performance. Perfect model has AUC-score=1.0.\n",
    " 2. **Accuracy.** This metric simply shows what proportion of the test set's instances were predicted correctly. Accuracy=(TP+TN)/(TP+TN+FN+FP). It varies for different model's thresholds.\n",
    " 3. **Confusion matrix**. The matrix of the form: [[TN,FP],\n",
    " [FN,TP]], also varies for different model's thresholds."
   ]
  },
  {
   "cell_type": "markdown",
   "metadata": {
    "tags": []
   },
   "source": [
    "# **3. Results**\n",
    "**Note, that the default value of the model's threshold (0.5) were used to predict whether a particular instance belongs to positive class or negative class.**"
   ]
  },
  {
   "cell_type": "markdown",
   "metadata": {},
   "source": [
    "Full code of the model implementation and evaluation for serial sampling:"
   ]
  },
  {
   "cell_type": "code",
   "execution_count": 17,
   "metadata": {},
   "outputs": [
    {
     "data": {
      "image/png": "[encoded data removed]",
      "text/plain": [
       "<Figure size 432x288 with 1 Axes>"
      ]
     },
     "metadata": {
      "needs_background": "light"
     },
     "output_type": "display_data"
    },
    {
     "name": "stdout",
     "output_type": "stream",
     "text": [
      "test_auc=0.909986552176749\n",
      "test_accuracy=0.8485164753242881\n",
      "confision_mat=[[3254  363]\n",
      " [ 653 2437]]\n"
     ]
    },
    {
     "data": {
      "text/plain": [
       "<matplotlib.legend.Legend at 0x7fcef565ae48>"
      ]
     },
     "execution_count": 17,
     "metadata": {},
     "output_type": "execute_result"
    },
    {
     "data": {
      "image/png": "[encoded data removed]",
      "text/plain": [
       "<Figure size 432x288 with 1 Axes>"
      ]
     },
     "metadata": {
      "needs_background": "light"
     },
     "output_type": "display_data"
    },
    {
     "data": {
      "image/png": "[encoded data removed]",
      "text/plain": [
       "<Figure size 432x288 with 1 Axes>"
      ]
     },
     "metadata": {
      "needs_background": "light"
     },
     "output_type": "display_data"
    }
   ],
   "source": [
    "#dividing columns into numeric and string ones\n",
    "num_columns=['fileSize', 'transferTime', 'queuingTime']\n",
    "str_columns=['cellName']\n",
    "\n",
    "#String Indexer and One Hot Encoder implementation\n",
    "from pyspark.ml.feature import (StringIndexer, OneHotEncoder)\n",
    "string_indexer=[ StringIndexer(inputCol=x, outputCol=x+'_StringIndexer', handleInvalid='skip') for x in str_columns]\n",
    "one_hot_encoder=[OneHotEncoder(inputCol=f\"{x}_StringIndexer\", outputCol=f\"{x}_OneHotEncoder\") for x in str_columns]\n",
    "\n",
    "#Vector Assembler implementation\n",
    "from pyspark.ml.feature import VectorAssembler\n",
    "assembler_input=[x for x in num_columns]\n",
    "assembler_input+=[f\"{x}_OneHotEncoder\" for x in str_columns]\n",
    "vector_assembler=VectorAssembler(inputCols=assembler_input, outputCol='features')\n",
    "\n",
    "#splitting selected data on train and test samples (serial_df) \n",
    "train, test= serial_df.randomSplit([0.7,0.3],seed=7)\n",
    "\n",
    "#designation of stages for Pipline\n",
    "stages=[]\n",
    "stages+=string_indexer\n",
    "stages+=one_hot_encoder\n",
    "stages+=[vector_assembler]\n",
    "\n",
    "#Pipline model creation\n",
    "from pyspark.ml import Pipeline\n",
    "pipeline=Pipeline().setStages(stages)\n",
    "model=pipeline.fit(train)\n",
    "\n",
    "#transforming the train sample \n",
    "X_train=model.transform(train)\n",
    "X_train.createOrReplaceTempView(\"X_train\")\n",
    "data=sqlContext.sql(\"select distinct(features),label from X_train\")\n",
    "\n",
    "#training Logistic Regression\n",
    "from pyspark.ml.classification import LogisticRegression\n",
    "lr=LogisticRegression().fit(data)\n",
    "\n",
    "\n",
    "#transforming test sample\n",
    "X_test=model.transform(test)\n",
    "predicts=lr.transform(X_test)\n",
    "\n",
    "#getting probabilitis, preidctions and actual labels \n",
    "probas=np.array(predicts.select('probability').collect())\n",
    "lbls=np.array(predicts.select('label').collect())\n",
    "preds=np.array(predicts.select('prediction').collect())\n",
    "probas_1=[]\n",
    "for proba in probas:\n",
    "    probas_1.append(proba[0][1])\n",
    "    \n",
    "#calculating parametrs for ROC-curve plotting   \n",
    "import sklearn.metrics as metrics\n",
    "fpr, tpr, threshold = metrics.roc_curve(lbls, probas_1)\n",
    "\n",
    "#calculating auc score\n",
    "roc_auc = metrics.auc(fpr, tpr)\n",
    "\n",
    "#ROC-curve plotting   \n",
    "import matplotlib.pyplot as plt\n",
    "plt.plot(fpr, tpr, 'b', label = 'AUC = %0.2f' % roc_auc)\n",
    "plt.legend(loc = 'lower right')\n",
    "plt.plot([0, 1], [0, 1],'r--')\n",
    "plt.xlim([0, 1])\n",
    "plt.ylim([0, 1])\n",
    "plt.ylabel('True Positive Rate')\n",
    "plt.xlabel('False Positive Rate')\n",
    "plt.show()\n",
    "\n",
    "#calculating confusion matrix and model accuracy  \n",
    "conf_mat=metrics.confusion_matrix(lbls,preds)\n",
    "accuracy=metrics.accuracy_score(lbls,preds)\n",
    "\n",
    "\n",
    "print('test_auc={}\\ntest_accuracy={}\\nconfision_mat={}'.format(roc_auc,accuracy,conf_mat))\n",
    "\n",
    "#probability distributions plotting\n",
    "predicts_train=lr.transform(X_train)\n",
    "probas1=np.array(predicts_train.select('probability').collect())\n",
    "prob_negative1=[]\n",
    "prob_positive1=[]\n",
    "for proba1 in probas1:\n",
    "    prob_negative1.append(proba1[0][0])\n",
    "    prob_positive1.append(proba1[0][1])\n",
    "prob_negative1=np.array(prob_negative1)\n",
    "prob_positive1=np.array(prob_positive1)\n",
    "\n",
    "probas=np.array(predicts.select('probability').collect())\n",
    "prob_negative=[]\n",
    "prob_positive=[]\n",
    "for proba in probas:\n",
    "    prob_negative.append(proba[0][0])\n",
    "    prob_positive.append(proba[0][1])\n",
    "prob_negative=np.array(prob_negative)\n",
    "prob_positive=np.array(prob_positive)\n",
    "\n",
    "neg_train=np.histogram(prob_negative1,50)\n",
    "pos_train=np.histogram(prob_positive1,50)\n",
    "neg_test=np.histogram(prob_negative,50)\n",
    "pos_test=np.histogram(prob_positive,50)\n",
    "\n",
    "plt.figure()\n",
    "plt.plot(neg_train[1][:len(neg_train[1])-1],neg_train[0], color='blue', label='0')\n",
    "plt.plot(pos_train[1][:len(pos_train[1])-1],pos_train[0], color='red', label='1')\n",
    "plt.xlim([-0.1,1.1])\n",
    "plt.xlabel('probabilities')\n",
    "plt.title('Probability distribution for the train set (serial sampling)')\n",
    "plt.legend()\n",
    "\n",
    "plt.figure()\n",
    "plt.plot(neg_test[1][:len(neg_test[1])-1],neg_test[0], color='blue', label='0')\n",
    "plt.plot(pos_test[1][:len(pos_test[1])-1],pos_test[0], color='red', label='1')\n",
    "plt.xlim([-0.1,1.1])\n",
    "plt.xlabel('probabilities')\n",
    "plt.title('Probability distribution for the test set (serial sampling)')\n",
    "plt.legend()"
   ]
  },
  {
   "cell_type": "markdown",
   "metadata": {},
   "source": [
    "Full code of the model implementation and evaluation for random sampling:"
   ]
  },
  {
   "cell_type": "code",
   "execution_count": 18,
   "metadata": {},
   "outputs": [
    {
     "data": {
      "image/png": "[encoded data removed]",
      "text/plain": [
       "<Figure size 432x288 with 1 Axes>"
      ]
     },
     "metadata": {
      "needs_background": "light"
     },
     "output_type": "display_data"
    },
    {
     "name": "stdout",
     "output_type": "stream",
     "text": [
      "test_auc=0.9018747838981391\n",
      "test_accuracy=0.8462682129051442\n",
      "confision_mat=[[3349  311]\n",
      " [ 723 2343]]\n"
     ]
    },
    {
     "data": {
      "text/plain": [
       "<matplotlib.legend.Legend at 0x7fce82fe7828>"
      ]
     },
     "execution_count": 18,
     "metadata": {},
     "output_type": "execute_result"
    },
    {
     "data": {
      "image/png": "[encoded data removed]",
      "text/plain": [
       "<Figure size 432x288 with 1 Axes>"
      ]
     },
     "metadata": {
      "needs_background": "light"
     },
     "output_type": "display_data"
    },
    {
     "data": {
      "image/png": "[encoded data removed]",
      "text/plain": [
       "<Figure size 432x288 with 1 Axes>"
      ]
     },
     "metadata": {
      "needs_background": "light"
     },
     "output_type": "display_data"
    }
   ],
   "source": [
    "#dividing columns into numeric and string ones\n",
    "num_columns=['fileSize', 'transferTime', 'queuingTime']\n",
    "str_columns=['cellName']\n",
    "\n",
    "#String Indexer and One Hot Encoder implementation\n",
    "from pyspark.ml.feature import (StringIndexer, OneHotEncoder)\n",
    "string_indexer=[ StringIndexer(inputCol=x, outputCol=x+'_StringIndexer', handleInvalid='skip') for x in str_columns]\n",
    "one_hot_encoder=[OneHotEncoder(inputCol=f\"{x}_StringIndexer\", outputCol=f\"{x}_OneHotEncoder\") for x in str_columns]\n",
    "\n",
    "#Vector Assembler implementation\n",
    "from pyspark.ml.feature import VectorAssembler\n",
    "assembler_input=[x for x in num_columns]\n",
    "assembler_input+=[f\"{x}_OneHotEncoder\" for x in str_columns]\n",
    "vector_assembler=VectorAssembler(inputCols=assembler_input, outputCol='features')\n",
    "\n",
    "#splitting selected data on train and test samples (rand_df) \n",
    "train, test= rand_df.randomSplit([0.7,0.3],seed=7)\n",
    "\n",
    "#designation of stages for Pipline\n",
    "stages=[]\n",
    "stages+=string_indexer\n",
    "stages+=one_hot_encoder\n",
    "stages+=[vector_assembler]\n",
    "\n",
    "#Pipline model creation\n",
    "from pyspark.ml import Pipeline\n",
    "pipeline=Pipeline().setStages(stages)\n",
    "model=pipeline.fit(train)\n",
    "\n",
    "#transforming the train sample \n",
    "X_train=model.transform(train)\n",
    "X_train.createOrReplaceTempView(\"X_train\")\n",
    "data=sqlContext.sql(\"select distinct(features),label from X_train\")\n",
    "\n",
    "#training Logistic Regression\n",
    "from pyspark.ml.classification import LogisticRegression\n",
    "lr=LogisticRegression().fit(data)\n",
    "\n",
    "\n",
    "#transforming test sample\n",
    "X_test=model.transform(test)\n",
    "predicts=lr.transform(X_test)\n",
    "\n",
    "#getting probabilitis, preidctions and actual labels \n",
    "probas=np.array(predicts.select('probability').collect())\n",
    "lbls=np.array(predicts.select('label').collect())\n",
    "preds=np.array(predicts.select('prediction').collect())\n",
    "probas_1=[]\n",
    "for proba in probas:\n",
    "    probas_1.append(proba[0][1])\n",
    "    \n",
    "#calculating parametrs for ROC-curve plotting   \n",
    "import sklearn.metrics as metrics\n",
    "fpr, tpr, threshold = metrics.roc_curve(lbls, probas_1)\n",
    "\n",
    "#calculating auc score\n",
    "roc_auc = metrics.auc(fpr, tpr)\n",
    "\n",
    "#ROC-curve plotting   \n",
    "import matplotlib.pyplot as plt\n",
    "plt.plot(fpr, tpr, 'b', label = 'AUC = %0.2f' % roc_auc)\n",
    "plt.legend(loc = 'lower right')\n",
    "plt.plot([0, 1], [0, 1],'r--')\n",
    "plt.xlim([0, 1])\n",
    "plt.ylim([0, 1])\n",
    "plt.ylabel('True Positive Rate')\n",
    "plt.xlabel('False Positive Rate')\n",
    "plt.show()\n",
    "\n",
    "#calculating confusion matrix and model accuracy  \n",
    "conf_mat=metrics.confusion_matrix(lbls,preds)\n",
    "accuracy=metrics.accuracy_score(lbls,preds)\n",
    "\n",
    "\n",
    "print('test_auc={}\\ntest_accuracy={}\\nconfision_mat={}'.format(roc_auc,accuracy,conf_mat))\n",
    "\n",
    "#probability distributions plotting\n",
    "predicts_train=lr.transform(X_train)\n",
    "probas1=np.array(predicts_train.select('probability').collect())\n",
    "prob_negative1=[]\n",
    "prob_positive1=[]\n",
    "for proba1 in probas1:\n",
    "    prob_negative1.append(proba1[0][0])\n",
    "    prob_positive1.append(proba1[0][1])\n",
    "prob_negative1=np.array(prob_negative1)\n",
    "prob_positive1=np.array(prob_positive1)\n",
    "\n",
    "probas=np.array(predicts.select('probability').collect())\n",
    "prob_negative=[]\n",
    "prob_positive=[]\n",
    "for proba in probas:\n",
    "    prob_negative.append(proba[0][0])\n",
    "    prob_positive.append(proba[0][1])\n",
    "prob_negative=np.array(prob_negative)\n",
    "prob_positive=np.array(prob_positive)\n",
    "\n",
    "neg_train=np.histogram(prob_negative1,50)\n",
    "pos_train=np.histogram(prob_positive1,50)\n",
    "neg_test=np.histogram(prob_negative,50)\n",
    "pos_test=np.histogram(prob_positive,50)\n",
    "\n",
    "plt.figure()\n",
    "plt.plot(neg_train[1][:len(neg_train[1])-1],neg_train[0], color='blue', label='0')\n",
    "plt.plot(pos_train[1][:len(pos_train[1])-1],pos_train[0], color='red', label='1')\n",
    "plt.xlim([-0.1,1.1])\n",
    "plt.xlabel('probabilities')\n",
    "plt.title('Probability distribution for the train set (random sampling)')\n",
    "plt.legend()\n",
    "\n",
    "plt.figure()\n",
    "plt.plot(neg_test[1][:len(neg_test[1])-1],neg_test[0], color='blue', label='0')\n",
    "plt.plot(pos_test[1][:len(pos_test[1])-1],pos_test[0], color='red', label='1')\n",
    "plt.xlim([-0.1,1.1])\n",
    "plt.xlabel('probabilities')\n",
    "plt.title('Probability distribution for the test set (random sampling)')\n",
    "plt.legend()"
   ]
  },
  {
   "cell_type": "markdown",
   "metadata": {},
   "source": [
    "Following observations can be done from the results:\n",
    "* Scores and ROC-curves look quite similar for both types of selection. We suppose that this is an exceptional case, in more common and complicated situations such behavior is unlikely to be observed. \n",
    "\n",
    "* ROC-curves are a bit wiggled in some places. This fact can be explained by not enough statistics due to the not much amount of input data. However, our case is not critical since most parts are smooth. \n",
    "\n",
    "* If you look at the confusion matrices, you can notice that the model with the random sampling is a bit better in predicting `background` instances since TP and FN values are higher than the ones for the model with the serial sampling. While the latter is better in predicting `signal` due to the higher TN and FP values.\n",
    "\n",
    "One non-obvious and essential issue is whether the chosen value of the model's threshold is appropriate. Let's consider model with the random sampling as an example. As was said before, we selected 0.5 as the threshold value for determing `background` instances, this means that decision boundaries (black dotted lines) split probability disrtibutions on approximately equal parts (look at figures below), therefore, the model will predict `background` and warn users frequently, that sometimes may be inconvenient."
   ]
  },
  {
   "cell_type": "code",
   "execution_count": 43,
   "metadata": {},
   "outputs": [
    {
     "data": {
      "text/plain": [
       "<matplotlib.legend.Legend at 0x7fce75305fd0>"
      ]
     },
     "execution_count": 43,
     "metadata": {},
     "output_type": "execute_result"
    },
    {
     "data": {
      "image/png": "[encoded data removed]",
      "text/plain": [
       "<Figure size 720x288 with 2 Axes>"
      ]
     },
     "metadata": {
      "needs_background": "light"
     },
     "output_type": "display_data"
    }
   ],
   "source": [
    "#plot of probability distributions for random sampling with default background threshold\n",
    "fig, (ax1,ax2)=plt.subplots(1,2,sharey=True,figsize=(10,4))\n",
    "ax1.plot(neg_test[1][:len(neg_test[1])-1],neg_test[0], color='blue', label='0')\n",
    "ax1.plot([0.5,0.5],[0,np.max(neg_test[0])],'k--')\n",
    "ax1.set_xlabel('probabilities')\n",
    "ax1.legend('0')\n",
    "ax2.plot(pos_test[1][:len(pos_test[1])-1],neg_test[0], color='red', label='0')\n",
    "ax2.plot([0.5,0.5],[0,np.max(neg_test[0])],'k--')\n",
    "ax2.set_xlabel('probabilities')\n",
    "ax2.legend('1')"
   ]
  },
  {
   "cell_type": "markdown",
   "metadata": {},
   "source": [
    "To avoid such situations, we can increase the threshold value for `background` determining, for instance, to 0.8, the threshold value for `signal` determining will decrease to 1-0.8=0.2. Decision boundaries will shift from the middle and less part of instances will be predicted as `background` (look at figures below). Of course, due to the `background` threshold rise, accuracy of the model might be reduced, however, with high probability, the model's reliability would be increased. If we get a warning about breakdowns in dCache from the model with stronger requirements to `background` instances, we will be much more sure that something is really going wrong and we should start taking action to figure out what was happened.  "
   ]
  },
  {
   "cell_type": "code",
   "execution_count": 44,
   "metadata": {},
   "outputs": [
    {
     "data": {
      "text/plain": [
       "<matplotlib.legend.Legend at 0x7fce79eef748>"
      ]
     },
     "execution_count": 44,
     "metadata": {},
     "output_type": "execute_result"
    },
    {
     "data": {
      "image/png": "[encoded data removed]",
      "text/plain": [
       "<Figure size 720x288 with 2 Axes>"
      ]
     },
     "metadata": {
      "needs_background": "light"
     },
     "output_type": "display_data"
    }
   ],
   "source": [
    "#plot of probability distributions for random sampling with higher background threshold\n",
    "fig, (ax1,ax2)=plt.subplots(1,2,sharey=True,figsize=(10,4))\n",
    "ax1.plot(neg_test[1][:len(neg_test[1])-1],neg_test[0], color='blue', label='0')\n",
    "ax1.plot([0.2,0.2],[0,np.max(neg_test[0])],'k--')\n",
    "ax1.set_xlabel('probabilities')\n",
    "ax1.legend('0')\n",
    "ax2.plot(pos_test[1][:len(pos_test[1])-1],neg_test[0], color='red', label='0')\n",
    "ax2.plot([0.8,0.8],[0,np.max(neg_test[0])],'k--')\n",
    "ax2.set_xlabel('probabilities')\n",
    "ax2.legend('1')"
   ]
  },
  {
   "cell_type": "markdown",
   "metadata": {},
   "source": [
    "Unfortunately, due to the lack of time, we did not investigate this issue fully. Optimal value for the `background` threshold was not found."
   ]
  },
  {
   "cell_type": "markdown",
   "metadata": {},
   "source": [
    "# **4. Conclusions**\n",
    "Several main conclusions can be drawn from the results.\n",
    "1. We managed to implement machine learning model able to distinguish signal and background instances with suitable accuracy, approximately 85 % for each sampling way.\n",
    "2. Testing scores (accuracy, auc) and ROC-curve look very similar for both types of sampling. We are pretty sure that such behavior is not typical in general. In serial sampling, data, with high probability, have a particular sequential structure, that can contribute to the distribution of input data, while in random sampling there is no such problem. Why is in our case no manifestation of described effect - is on more question to investigate.\n",
    "3. It is needed to investigate in more detail which value of threshold should be chosen for distinguishing signal and background. Optimal value, cutting off the doubtful `background` instances and, at the same time, preserving meaningful ones, should be found."
   ]
  },
  {
   "cell_type": "markdown",
   "metadata": {},
   "source": [
    "# **5. Discussion**\n",
    "In this project, as disscussed we were able to successfully implement a ML algorithm on a Spark framework. However, there were many things which we were unable to achieve due to various constrains. Some ideas which were thought out during the project but we were unable to perform include-\n",
    "* Determining the signal and background data in a better way by performing some statistical tests like Chi Square test etc.\n",
    "* Doing more rigorous feature selection by performing more traditional Data selection processes.\n",
    "* Implementing more complex ML algorithm"
   ]
  },
  {
   "cell_type": "markdown",
   "metadata": {
    "execution": {
     "iopub.execute_input": "2021-09-05T11:12:57.481636Z",
     "iopub.status.busy": "2021-09-05T11:12:57.481187Z",
     "iopub.status.idle": "2021-09-05T11:12:57.486368Z",
     "shell.execute_reply": "2021-09-05T11:12:57.485384Z",
     "shell.execute_reply.started": "2021-09-05T11:12:57.481538Z"
    }
   },
   "source": [
    "# **6. References**"
   ]
  },
  {
   "cell_type": "markdown",
   "metadata": {},
   "source": [
    "1. Logistic regression: https://spark.apache.org/docs/latest/mllib-linear-methods.html#logistic-regression; https://www.pdfdrive.com/applied-logistic-regression-e172207141.html\n",
    "\n",
    "2. Apache Spark documentation: https://spark.apache.org/\n",
    "\n",
    "3. Apache Spark blog by AWS: https://aws.amazon.com/big-data/what-is-spark/\n",
    "\n",
    "4. Machine Learning Definition: https://mitsloan.mit.edu/ideas-made-to-matter/machine-learning-explained\n",
    "\n",
    "5. ML types: https://www.geeksforgeeks.org/introduction-machine-learning/\n",
    "\n",
    "6. \n"
   ]
  },
  {
   "cell_type": "code",
   "execution_count": null,
   "metadata": {},
   "outputs": [],
   "source": []
  }
 ],
 "metadata": {
  "kernelspec": {
   "display_name": "Python 3",
   "language": "python",
   "name": "python3"
  },
  "language_info": {
   "codemirror_mode": {
    "name": "ipython",
    "version": 3
   },
   "file_extension": ".py",
   "mimetype": "text/x-python",
   "name": "python",
   "nbconvert_exporter": "python",
   "pygments_lexer": "ipython3",
   "version": "3.6.8"
  }
 },
 "nbformat": 4,
 "nbformat_minor": 4
}
