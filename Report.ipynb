{
 "cells": [
  {
   "cell_type": "markdown",
   "id": "e855dba7-c95f-4670-93ce-3e78528c0aa7",
   "metadata": {},
   "source": [
    "# **1. Introduction**\n",
    "## **1.1. dCache**\n",
    "   First of all, it worths saying some words about the system we are going to work with -  dCache. Built in Java dCache is a distributed mass-storage system that allows us to manage huge ammount of scientific data. The data are distributed among the large number of heterogenous pools(nodes) that handle with data storage and transfer. A client can easily get access to dCache data through requests.  \n",
    "   \n",
    "   Information we are intersted in is about transactions occurred in dCache. It is contained in *billing* files which are a set of JSON dictionaries for a particular date. There are several main types of transactions: requset, transfer, remove, store, restore, but  only stores will be in our sphere of interests (later will be explained why).\n",
    "\n",
    "   Since amount of data to process is huge enough, to avoid overloading of our local machines we use unified analytics engine for large-scale data processing - **Apache Spark**.\n",
    "   \n",
    "   Logistic regression: https://spark.apache.org/docs/latest/mllib-linear-methods.html#logistic-regression; https://www.pdfdrive.com/applied-logistic-regression-e172207141.html\n",
    "   "
   ]
  },
  {
   "cell_type": "markdown",
   "id": "da0c1fc5-99a2-4e2c-a12d-0129d84fd9e3",
   "metadata": {},
   "source": [
    "# **2. Analysis**\n",
    "## **2.1. Motivation**\n",
    "As in each system, breakdowns and errors sometimes occur in dCahce. Few people would dispute that it is important to detect them automatically and warn users afterward. Imagine the situation, a scientist from Japan failed to access data from the node placed in the mid-Europian region, and now he is trying to figure out if there was a problem with his local machine or with the entire system, but he can not get any information, because due to the difference in time zones local office in Europe is closed already. In such cases, it is especially important to warn the user if something was wrong. That is why we decided to develop a machine learning model, helping to determine undesirable situations.\n"
   ]
  },
  {
   "cell_type": "markdown",
   "id": "6ff48fec-9e58-416c-a2ce-bd1522776a51",
   "metadata": {},
   "source": [
    "## **2.2. Data Pre-Selection**\n",
    "As was said before, we were interested only *store* type of transactions. There are two main reasons for it. First - structure of messages with type 'store' is not really complicated, there are not many features to analyze in comparison with 'transfer', for instance. Second - there are sufficient number of instances with message type 'store' in dCache.\n",
    "\n",
    "Two random days were chosen for analysis: 2021-07-10 and 2021-08-01. For converting data to RDD we wrote special function \"convert_data\". As you may see, there are two parametrs in it: *file* - a file's directory, *msgType* - type pf a message."
   ]
  },
  {
   "cell_type": "code",
   "execution_count": null,
   "id": "751c328e-da13-4aa3-8812-b58364f6c762",
   "metadata": {},
   "outputs": [],
   "source": [
    "def convert_data(file, msgType):\n",
    "    data = sc.textFile(file)\n",
    "    billing = data.map(lambda row: json.loads(row)).filter(lambda row: row.get('msgType',None) == msgType)\n",
    "    return billing"
   ]
  },
  {
   "cell_type": "markdown",
   "id": "beca20d8-ce8c-4843-9638-4e1f8d9d7874",
   "metadata": {},
   "source": [
    "To combine data from both days SparkContext method *union()* were used:"
   ]
  },
  {
   "cell_type": "code",
   "execution_count": null,
   "id": "35338136-de8c-4b8a-a065-90052711551f",
   "metadata": {},
   "outputs": [],
   "source": [
    "billing_RDD = sc.union(\n",
    "    [\n",
    "        convert_data('/pnfs/desy.de/desy/dcache-operations/billing-archive/xfel/2021/07/billing-2021-07-10.json',\"store\"),\n",
    "        convert_data('/pnfs/desy.de/desy/dcache-operations/billing-archive/xfel/2021/08/billing-2021-08-01.json',\"store\")\n",
    "    ]\n",
    ")"
   ]
  },
  {
   "cell_type": "markdown",
   "id": "dae8c966-f257-4e52-be57-0b56e7eba703",
   "metadata": {},
   "source": [
    "## **2.5. Algorithm selection**\n",
    "Since our problem is a classification problem, we should use classifiers. To simplify process a bit we decided to choose supervise learning. As a machine learning library we decided to choose \"Mllib\". "
   ]
  },
  {
   "cell_type": "code",
   "execution_count": null,
   "id": "0a3232e8-1fe5-4cd4-9d56-d02f85c76699",
   "metadata": {},
   "outputs": [],
   "source": []
  }
 ],
 "metadata": {
  "kernelspec": {
   "display_name": "Python 3",
   "language": "python",
   "name": "python3"
  },
  "language_info": {
   "codemirror_mode": {
    "name": "ipython",
    "version": 3
   },
   "file_extension": ".py",
   "mimetype": "text/x-python",
   "name": "python",
   "nbconvert_exporter": "python",
   "pygments_lexer": "ipython3",
   "version": "3.6.8"
  }
 },
 "nbformat": 4,
 "nbformat_minor": 5
}
